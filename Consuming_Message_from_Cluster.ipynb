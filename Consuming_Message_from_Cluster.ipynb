{
  "nbformat": 4,
  "nbformat_minor": 0,
  "metadata": {
    "colab": {
      "provenance": [],
      "gpuType": "T4",
      "authorship_tag": "ABX9TyMJAf2mEJHjOyibklYGUJiP",
      "include_colab_link": true
    },
    "kernelspec": {
      "name": "python3",
      "display_name": "Python 3"
    },
    "language_info": {
      "name": "python"
    },
    "accelerator": "GPU"
  },
  "cells": [
    {
      "cell_type": "markdown",
      "metadata": {
        "id": "view-in-github",
        "colab_type": "text"
      },
      "source": [
        "<a href=\"https://colab.research.google.com/github/Bhawnadhaka/Kafka-Learning/blob/main/Consuming_Message_from_Cluster.ipynb\" target=\"_parent\"><img src=\"https://colab.research.google.com/assets/colab-badge.svg\" alt=\"Open In Colab\"/></a>"
      ]
    },
    {
      "cell_type": "code",
      "execution_count": null,
      "metadata": {
        "id": "nNRpu1eHUqJP"
      },
      "outputs": [],
      "source": [
        "# Read data from kfka consumer\n"
      ]
    },
    {
      "cell_type": "code",
      "source": [
        "!pip install confluent-kafka"
      ],
      "metadata": {
        "colab": {
          "base_uri": "https://localhost:8080/"
        },
        "id": "uvtLTNguSvH1",
        "outputId": "b28346fb-2da6-406a-9314-d464f8b8b759"
      },
      "execution_count": null,
      "outputs": [
        {
          "output_type": "stream",
          "name": "stdout",
          "text": [
            "Requirement already satisfied: confluent-kafka in /usr/local/lib/python3.11/dist-packages (2.10.0)\n"
          ]
        }
      ]
    },
    {
      "cell_type": "code",
      "source": [
        "from confluent_kafka import Consumer,KafkaError,KafkaException\n",
        "import json\n",
        "import time\n",
        "\n",
        "conf={\n",
        "    \"bootstrap.servers\":\"pkc-921jm.us-east-2.aws.confluent.cloud:9092\",\n",
        "    \"security.protocol\":\"SASL_SSL\",\n",
        "    \"sasl.mechanisms\":\"PLAIN\",\n",
        "    \"sasl.username\":\"MMX35MRQQ3TAWGZ5\",\n",
        "    \"sasl.password\":\"Vv0LpHZgno1otWzMKo4VQ9EmdLBBBBIcXTeW1xRjn5qFNQMw5ncez9QpcqQuT7AH\",\n",
        "    'session.timeout.ms': 45000,  # Add session timeout\n",
        "    'client.id': 'ccloud-python-client-dc3b30b7-f51e-411d-a539-5d2dc08cc918' ,\n",
        "    'auto.offset.reset':'earliest',\n",
        "    'group.id':'customer_group'\n",
        "\n",
        "}\n",
        "consumer=Consumer(conf)\n",
        "consumer\n",
        "\n"
      ],
      "metadata": {
        "colab": {
          "base_uri": "https://localhost:8080/"
        },
        "id": "DA_KqQJIS0yj",
        "outputId": "d6da4aa8-1cae-4f22-be9c-53a23a80d619"
      },
      "execution_count": null,
      "outputs": [
        {
          "output_type": "execute_result",
          "data": {
            "text/plain": [
              "<cimpl.Consumer at 0x7995f55de5c0>"
            ]
          },
          "metadata": {},
          "execution_count": 10
        }
      ]
    },
    {
      "cell_type": "code",
      "source": [
        "topic='ecommerce'\n",
        "consumer.subscribe([topic])\n",
        "\n",
        "def process_message(message):\n",
        "  try:\n",
        "    if message.error():\n",
        "      if message.error().code() == KafkaError._PARTITION_EOF:\n",
        "        print(f'end of partition reached {0}/{1}')\n",
        "      else:\n",
        "        raise KafkaException(message.error())\n",
        "    else:\n",
        "        key=message.key().decode('utf-8')\n",
        "        value=json.loads(message.value().decode('utf-8'))\n",
        "\n",
        "        print(f\"Reached message:key {key},value:{value}\")\n",
        "  except Exception as e:\n",
        "    print(f\"Error consuming/processing message: {e}\")\n",
        "\n",
        "\n"
      ],
      "metadata": {
        "id": "oOMmz9NYTiKI"
      },
      "execution_count": null,
      "outputs": []
    },
    {
      "cell_type": "code",
      "source": [
        "# poll message continously\n",
        "try:\n",
        "  print(\"Listinign for message ,press ctrl+c to exit\")\n",
        "\n",
        "  while True:\n",
        "    message=consumer.poll(timeout=1.0)\n",
        "    if (message):\n",
        "      process_message(message)\n",
        "\n",
        "except KeyboardInterrupt:\n",
        "  print(\"Intrrupted by user,shuting down consumer\")\n",
        "finally:\n",
        "  consumer.close()"
      ],
      "metadata": {
        "colab": {
          "base_uri": "https://localhost:8080/"
        },
        "id": "Ykr6TG5q4xn4",
        "outputId": "abd85d2c-9b20-4d98-c03d-0966cb9ead8f"
      },
      "execution_count": null,
      "outputs": [
        {
          "output_type": "stream",
          "name": "stdout",
          "text": [
            "Listinign for message ,press ctrl+c to exit\n",
            "Error consuming/processing message: Expecting property name enclosed in double quotes: line 1 column 2 (char 1)\n",
            "Reached message:key 0,value:{'customer_id': 0, 'name': 'Customer_0', 'city': 'Pune', 'state': 'Maharashtra', 'country': 'India', 'registration_date': '2023-06-29', 'is_active': False}\n",
            "Reached message:key 1,value:{'customer_id': 1, 'name': 'Customer_1', 'city': 'Bangalore', 'state': 'Tamil Nadu', 'country': 'India', 'registration_date': '2023-12-07', 'is_active': True}\n",
            "Reached message:key 8,value:{'customer_id': 8, 'name': 'Customer_8', 'city': 'Pune', 'state': 'Karnataka', 'country': 'India', 'registration_date': '2023-06-22', 'is_active': True}\n",
            "Reached message:key 13,value:{'customer_id': 13, 'name': 'Customer_13', 'city': 'Chennai', 'state': 'Karnataka', 'country': 'India', 'registration_date': '2023-11-06', 'is_active': True}\n",
            "Reached message:key 17,value:{'customer_id': 17, 'name': 'Customer_17', 'city': 'Hyderabad', 'state': 'West Bengal', 'country': 'India', 'registration_date': '2023-08-21', 'is_active': False}\n",
            "Reached message:key 22,value:{'customer_id': 22, 'name': 'Customer_22', 'city': 'Chennai', 'state': 'West Bengal', 'country': 'India', 'registration_date': '2023-08-03', 'is_active': True}\n",
            "Reached message:key 24,value:{'customer_id': 24, 'name': 'Customer_24', 'city': 'Kolkata', 'state': 'Karnataka', 'country': 'India', 'registration_date': '2023-03-06', 'is_active': False}\n",
            "Reached message:key 29,value:{'customer_id': 29, 'name': 'Customer_29', 'city': 'Delhi', 'state': 'Gujarat', 'country': 'India', 'registration_date': '2023-05-28', 'is_active': False}\n",
            "Reached message:key 33,value:{'customer_id': 33, 'name': 'Customer_33', 'city': 'Mumbai', 'state': 'West Bengal', 'country': 'India', 'registration_date': '2023-09-11', 'is_active': False}\n",
            "Reached message:key 34,value:{'customer_id': 34, 'name': 'Customer_34', 'city': 'Kolkata', 'state': 'Gujarat', 'country': 'India', 'registration_date': '2023-11-01', 'is_active': True}\n",
            "Reached message:key 40,value:{'customer_id': 40, 'name': 'Customer_40', 'city': 'Pune', 'state': 'West Bengal', 'country': 'India', 'registration_date': '2023-01-15', 'is_active': False}\n",
            "Reached message:key 41,value:{'customer_id': 41, 'name': 'Customer_41', 'city': 'Bangalore', 'state': 'Karnataka', 'country': 'India', 'registration_date': '2023-03-28', 'is_active': False}\n",
            "Reached message:key 42,value:{'customer_id': 42, 'name': 'Customer_42', 'city': 'Bangalore', 'state': 'Gujarat', 'country': 'India', 'registration_date': '2023-08-11', 'is_active': True}\n",
            "Reached message:key 44,value:{'customer_id': 44, 'name': 'Customer_44', 'city': 'Pune', 'state': 'Gujarat', 'country': 'India', 'registration_date': '2023-04-01', 'is_active': True}\n",
            "Reached message:key 55,value:{'customer_id': 55, 'name': 'Customer_55', 'city': 'Pune', 'state': 'Telangana', 'country': 'India', 'registration_date': '2023-12-07', 'is_active': True}\n",
            "Reached message:key 59,value:{'customer_id': 59, 'name': 'Customer_59', 'city': 'Ahmedabad', 'state': 'Telangana', 'country': 'India', 'registration_date': '2023-07-08', 'is_active': True}\n",
            "Reached message:key 74,value:{'customer_id': 74, 'name': 'Customer_74', 'city': 'Chennai', 'state': 'Gujarat', 'country': 'India', 'registration_date': '2023-01-10', 'is_active': False}\n",
            "Reached message:key 76,value:{'customer_id': 76, 'name': 'Customer_76', 'city': 'Kolkata', 'state': 'Delhi', 'country': 'India', 'registration_date': '2023-01-08', 'is_active': False}\n",
            "Reached message:key 79,value:{'customer_id': 79, 'name': 'Customer_79', 'city': 'Pune', 'state': 'Telangana', 'country': 'India', 'registration_date': '2023-02-06', 'is_active': True}\n",
            "Reached message:key 81,value:{'customer_id': 81, 'name': 'Customer_81', 'city': 'Chennai', 'state': 'West Bengal', 'country': 'India', 'registration_date': '2023-08-22', 'is_active': True}\n",
            "Reached message:key 83,value:{'customer_id': 83, 'name': 'Customer_83', 'city': 'Pune', 'state': 'Telangana', 'country': 'India', 'registration_date': '2023-08-28', 'is_active': True}\n",
            "Reached message:key 2,value:{'customer_id': 2, 'name': 'Customer_2', 'city': 'Hyderabad', 'state': 'Gujarat', 'country': 'India', 'registration_date': '2023-10-27', 'is_active': True}\n",
            "Reached message:key 3,value:{'customer_id': 3, 'name': 'Customer_3', 'city': 'Bangalore', 'state': 'Karnataka', 'country': 'India', 'registration_date': '2023-10-17', 'is_active': False}\n",
            "Reached message:key 4,value:{'customer_id': 4, 'name': 'Customer_4', 'city': 'Ahmedabad', 'state': 'Karnataka', 'country': 'India', 'registration_date': '2023-03-14', 'is_active': False}\n",
            "Reached message:key 5,value:{'customer_id': 5, 'name': 'Customer_5', 'city': 'Hyderabad', 'state': 'Karnataka', 'country': 'India', 'registration_date': '2023-07-28', 'is_active': False}\n",
            "Reached message:key 6,value:{'customer_id': 6, 'name': 'Customer_6', 'city': 'Pune', 'state': 'Delhi', 'country': 'India', 'registration_date': '2023-08-29', 'is_active': False}\n",
            "Reached message:key 15,value:{'customer_id': 15, 'name': 'Customer_15', 'city': 'Mumbai', 'state': 'Gujarat', 'country': 'India', 'registration_date': '2023-03-02', 'is_active': True}\n",
            "Reached message:key 19,value:{'customer_id': 19, 'name': 'Customer_19', 'city': 'Kolkata', 'state': 'Gujarat', 'country': 'India', 'registration_date': '2023-02-05', 'is_active': True}\n",
            "Reached message:key 21,value:{'customer_id': 21, 'name': 'Customer_21', 'city': 'Bangalore', 'state': 'Tamil Nadu', 'country': 'India', 'registration_date': '2023-05-30', 'is_active': True}\n",
            "Reached message:key 23,value:{'customer_id': 23, 'name': 'Customer_23', 'city': 'Chennai', 'state': 'Maharashtra', 'country': 'India', 'registration_date': '2023-02-15', 'is_active': False}\n",
            "Reached message:key 26,value:{'customer_id': 26, 'name': 'Customer_26', 'city': 'Delhi', 'state': 'Delhi', 'country': 'India', 'registration_date': '2023-03-22', 'is_active': True}\n",
            "Reached message:key 30,value:{'customer_id': 30, 'name': 'Customer_30', 'city': 'Hyderabad', 'state': 'Karnataka', 'country': 'India', 'registration_date': '2023-01-28', 'is_active': False}\n",
            "Reached message:key 31,value:{'customer_id': 31, 'name': 'Customer_31', 'city': 'Kolkata', 'state': 'Tamil Nadu', 'country': 'India', 'registration_date': '2023-06-14', 'is_active': False}\n",
            "Reached message:key 32,value:{'customer_id': 32, 'name': 'Customer_32', 'city': 'Delhi', 'state': 'Telangana', 'country': 'India', 'registration_date': '2023-05-15', 'is_active': False}\n",
            "Reached message:key 35,value:{'customer_id': 35, 'name': 'Customer_35', 'city': 'Pune', 'state': 'Karnataka', 'country': 'India', 'registration_date': '2023-07-31', 'is_active': False}\n",
            "Reached message:key 36,value:{'customer_id': 36, 'name': 'Customer_36', 'city': 'Ahmedabad', 'state': 'Tamil Nadu', 'country': 'India', 'registration_date': '2023-10-07', 'is_active': True}\n",
            "Reached message:key 37,value:{'customer_id': 37, 'name': 'Customer_37', 'city': 'Hyderabad', 'state': 'Karnataka', 'country': 'India', 'registration_date': '2023-03-21', 'is_active': True}\n",
            "Reached message:key 39,value:{'customer_id': 39, 'name': 'Customer_39', 'city': 'Pune', 'state': 'Tamil Nadu', 'country': 'India', 'registration_date': '2023-12-14', 'is_active': False}\n",
            "Reached message:key 43,value:{'customer_id': 43, 'name': 'Customer_43', 'city': 'Hyderabad', 'state': 'Tamil Nadu', 'country': 'India', 'registration_date': '2023-11-21', 'is_active': True}\n",
            "Reached message:key 45,value:{'customer_id': 45, 'name': 'Customer_45', 'city': 'Chennai', 'state': 'Maharashtra', 'country': 'India', 'registration_date': '2023-11-12', 'is_active': False}\n",
            "Reached message:key 52,value:{'customer_id': 52, 'name': 'Customer_52', 'city': 'Ahmedabad', 'state': 'Karnataka', 'country': 'India', 'registration_date': '2023-02-25', 'is_active': True}\n",
            "Reached message:key 54,value:{'customer_id': 54, 'name': 'Customer_54', 'city': 'Kolkata', 'state': 'Delhi', 'country': 'India', 'registration_date': '2023-12-13', 'is_active': False}\n",
            "Reached message:key 56,value:{'customer_id': 56, 'name': 'Customer_56', 'city': 'Delhi', 'state': 'Karnataka', 'country': 'India', 'registration_date': '2023-12-29', 'is_active': False}\n",
            "Reached message:key 61,value:{'customer_id': 61, 'name': 'Customer_61', 'city': 'Hyderabad', 'state': 'Delhi', 'country': 'India', 'registration_date': '2023-12-31', 'is_active': False}\n",
            "Reached message:key 62,value:{'customer_id': 62, 'name': 'Customer_62', 'city': 'Delhi', 'state': 'Maharashtra', 'country': 'India', 'registration_date': '2023-04-12', 'is_active': True}\n",
            "Reached message:key 66,value:{'customer_id': 66, 'name': 'Customer_66', 'city': 'Pune', 'state': 'Tamil Nadu', 'country': 'India', 'registration_date': '2023-12-02', 'is_active': True}\n",
            "Reached message:key 67,value:{'customer_id': 67, 'name': 'Customer_67', 'city': 'Hyderabad', 'state': 'Gujarat', 'country': 'India', 'registration_date': '2023-03-06', 'is_active': False}\n",
            "Reached message:key 68,value:{'customer_id': 68, 'name': 'Customer_68', 'city': 'Kolkata', 'state': 'Gujarat', 'country': 'India', 'registration_date': '2023-07-17', 'is_active': False}\n",
            "Reached message:key 69,value:{'customer_id': 69, 'name': 'Customer_69', 'city': 'Pune', 'state': 'Tamil Nadu', 'country': 'India', 'registration_date': '2023-01-16', 'is_active': True}\n",
            "Reached message:key 70,value:{'customer_id': 70, 'name': 'Customer_70', 'city': 'Kolkata', 'state': 'West Bengal', 'country': 'India', 'registration_date': '2023-11-06', 'is_active': True}\n",
            "Reached message:key 71,value:{'customer_id': 71, 'name': 'Customer_71', 'city': 'Mumbai', 'state': 'West Bengal', 'country': 'India', 'registration_date': '2023-12-19', 'is_active': True}\n",
            "Reached message:key 73,value:{'customer_id': 73, 'name': 'Customer_73', 'city': 'Chennai', 'state': 'West Bengal', 'country': 'India', 'registration_date': '2023-03-01', 'is_active': False}\n",
            "Reached message:key 84,value:{'customer_id': 84, 'name': 'Customer_84', 'city': 'Pune', 'state': 'Delhi', 'country': 'India', 'registration_date': '2023-04-14', 'is_active': False}\n",
            "Reached message:key 87,value:{'customer_id': 87, 'name': 'Customer_87', 'city': 'Pune', 'state': 'Karnataka', 'country': 'India', 'registration_date': '2023-10-06', 'is_active': False}\n",
            "Reached message:key 88,value:{'customer_id': 88, 'name': 'Customer_88', 'city': 'Pune', 'state': 'Telangana', 'country': 'India', 'registration_date': '2023-06-15', 'is_active': True}\n",
            "Reached message:key 92,value:{'customer_id': 92, 'name': 'Customer_92', 'city': 'Kolkata', 'state': 'Delhi', 'country': 'India', 'registration_date': '2023-06-25', 'is_active': True}\n",
            "Reached message:key 93,value:{'customer_id': 93, 'name': 'Customer_93', 'city': 'Pune', 'state': 'West Bengal', 'country': 'India', 'registration_date': '2023-09-30', 'is_active': False}\n",
            "Reached message:key 96,value:{'customer_id': 96, 'name': 'Customer_96', 'city': 'Ahmedabad', 'state': 'Telangana', 'country': 'India', 'registration_date': '2023-06-22', 'is_active': False}\n",
            "Reached message:key 7,value:{'customer_id': 7, 'name': 'Customer_7', 'city': 'Ahmedabad', 'state': 'West Bengal', 'country': 'India', 'registration_date': '2023-12-28', 'is_active': True}\n",
            "Reached message:key 9,value:{'customer_id': 9, 'name': 'Customer_9', 'city': 'Mumbai', 'state': 'Telangana', 'country': 'India', 'registration_date': '2023-01-05', 'is_active': True}\n",
            "Reached message:key 10,value:{'customer_id': 10, 'name': 'Customer_10', 'city': 'Pune', 'state': 'Gujarat', 'country': 'India', 'registration_date': '2023-08-05', 'is_active': True}\n",
            "Reached message:key 11,value:{'customer_id': 11, 'name': 'Customer_11', 'city': 'Delhi', 'state': 'West Bengal', 'country': 'India', 'registration_date': '2023-08-02', 'is_active': False}\n",
            "Reached message:key 12,value:{'customer_id': 12, 'name': 'Customer_12', 'city': 'Chennai', 'state': 'Gujarat', 'country': 'India', 'registration_date': '2023-11-21', 'is_active': False}\n",
            "Reached message:key 14,value:{'customer_id': 14, 'name': 'Customer_14', 'city': 'Hyderabad', 'state': 'Tamil Nadu', 'country': 'India', 'registration_date': '2023-02-07', 'is_active': False}\n",
            "Reached message:key 16,value:{'customer_id': 16, 'name': 'Customer_16', 'city': 'Chennai', 'state': 'Karnataka', 'country': 'India', 'registration_date': '2023-04-05', 'is_active': False}\n",
            "Reached message:key 18,value:{'customer_id': 18, 'name': 'Customer_18', 'city': 'Pune', 'state': 'Delhi', 'country': 'India', 'registration_date': '2023-10-04', 'is_active': True}\n",
            "Reached message:key 20,value:{'customer_id': 20, 'name': 'Customer_20', 'city': 'Hyderabad', 'state': 'Telangana', 'country': 'India', 'registration_date': '2023-01-01', 'is_active': True}\n",
            "Reached message:key 25,value:{'customer_id': 25, 'name': 'Customer_25', 'city': 'Pune', 'state': 'Tamil Nadu', 'country': 'India', 'registration_date': '2023-01-06', 'is_active': False}\n",
            "Reached message:key 27,value:{'customer_id': 27, 'name': 'Customer_27', 'city': 'Ahmedabad', 'state': 'Gujarat', 'country': 'India', 'registration_date': '2023-07-08', 'is_active': True}\n",
            "Reached message:key 28,value:{'customer_id': 28, 'name': 'Customer_28', 'city': 'Hyderabad', 'state': 'Maharashtra', 'country': 'India', 'registration_date': '2023-05-31', 'is_active': True}\n",
            "Reached message:key 38,value:{'customer_id': 38, 'name': 'Customer_38', 'city': 'Bangalore', 'state': 'Telangana', 'country': 'India', 'registration_date': '2023-09-26', 'is_active': False}\n",
            "Reached message:key 46,value:{'customer_id': 46, 'name': 'Customer_46', 'city': 'Kolkata', 'state': 'Delhi', 'country': 'India', 'registration_date': '2023-09-23', 'is_active': True}\n",
            "Reached message:key 47,value:{'customer_id': 47, 'name': 'Customer_47', 'city': 'Kolkata', 'state': 'Telangana', 'country': 'India', 'registration_date': '2023-11-03', 'is_active': True}\n",
            "Reached message:key 48,value:{'customer_id': 48, 'name': 'Customer_48', 'city': 'Ahmedabad', 'state': 'Tamil Nadu', 'country': 'India', 'registration_date': '2023-11-16', 'is_active': True}\n",
            "Reached message:key 49,value:{'customer_id': 49, 'name': 'Customer_49', 'city': 'Delhi', 'state': 'Gujarat', 'country': 'India', 'registration_date': '2023-04-16', 'is_active': True}\n",
            "Reached message:key 50,value:{'customer_id': 50, 'name': 'Customer_50', 'city': 'Kolkata', 'state': 'Tamil Nadu', 'country': 'India', 'registration_date': '2023-09-10', 'is_active': True}\n",
            "Reached message:key 51,value:{'customer_id': 51, 'name': 'Customer_51', 'city': 'Ahmedabad', 'state': 'Tamil Nadu', 'country': 'India', 'registration_date': '2023-07-18', 'is_active': True}\n",
            "Reached message:key 53,value:{'customer_id': 53, 'name': 'Customer_53', 'city': 'Pune', 'state': 'Telangana', 'country': 'India', 'registration_date': '2023-08-27', 'is_active': True}\n",
            "Reached message:key 57,value:{'customer_id': 57, 'name': 'Customer_57', 'city': 'Kolkata', 'state': 'Gujarat', 'country': 'India', 'registration_date': '2023-08-06', 'is_active': False}\n",
            "Reached message:key 58,value:{'customer_id': 58, 'name': 'Customer_58', 'city': 'Kolkata', 'state': 'Tamil Nadu', 'country': 'India', 'registration_date': '2023-07-31', 'is_active': True}\n",
            "Reached message:key 60,value:{'customer_id': 60, 'name': 'Customer_60', 'city': 'Mumbai', 'state': 'Tamil Nadu', 'country': 'India', 'registration_date': '2023-12-01', 'is_active': True}\n",
            "Reached message:key 63,value:{'customer_id': 63, 'name': 'Customer_63', 'city': 'Mumbai', 'state': 'Karnataka', 'country': 'India', 'registration_date': '2023-05-23', 'is_active': True}\n",
            "Reached message:key 64,value:{'customer_id': 64, 'name': 'Customer_64', 'city': 'Chennai', 'state': 'Maharashtra', 'country': 'India', 'registration_date': '2023-10-12', 'is_active': False}\n",
            "Reached message:key 65,value:{'customer_id': 65, 'name': 'Customer_65', 'city': 'Delhi', 'state': 'Telangana', 'country': 'India', 'registration_date': '2023-03-11', 'is_active': True}\n",
            "Reached message:key 72,value:{'customer_id': 72, 'name': 'Customer_72', 'city': 'Mumbai', 'state': 'Maharashtra', 'country': 'India', 'registration_date': '2023-09-20', 'is_active': False}\n",
            "Reached message:key 75,value:{'customer_id': 75, 'name': 'Customer_75', 'city': 'Hyderabad', 'state': 'Telangana', 'country': 'India', 'registration_date': '2023-11-05', 'is_active': True}\n",
            "Reached message:key 77,value:{'customer_id': 77, 'name': 'Customer_77', 'city': 'Pune', 'state': 'Telangana', 'country': 'India', 'registration_date': '2023-12-07', 'is_active': True}\n",
            "Reached message:key 78,value:{'customer_id': 78, 'name': 'Customer_78', 'city': 'Bangalore', 'state': 'Maharashtra', 'country': 'India', 'registration_date': '2023-03-31', 'is_active': False}\n",
            "Reached message:key 80,value:{'customer_id': 80, 'name': 'Customer_80', 'city': 'Ahmedabad', 'state': 'West Bengal', 'country': 'India', 'registration_date': '2023-03-25', 'is_active': False}\n",
            "Reached message:key 82,value:{'customer_id': 82, 'name': 'Customer_82', 'city': 'Kolkata', 'state': 'Delhi', 'country': 'India', 'registration_date': '2023-09-07', 'is_active': False}\n",
            "Reached message:key 85,value:{'customer_id': 85, 'name': 'Customer_85', 'city': 'Chennai', 'state': 'Gujarat', 'country': 'India', 'registration_date': '2023-07-30', 'is_active': True}\n",
            "Reached message:key 86,value:{'customer_id': 86, 'name': 'Customer_86', 'city': 'Ahmedabad', 'state': 'Maharashtra', 'country': 'India', 'registration_date': '2023-08-13', 'is_active': False}\n",
            "Reached message:key 89,value:{'customer_id': 89, 'name': 'Customer_89', 'city': 'Delhi', 'state': 'Gujarat', 'country': 'India', 'registration_date': '2023-10-28', 'is_active': True}\n",
            "Reached message:key 90,value:{'customer_id': 90, 'name': 'Customer_90', 'city': 'Ahmedabad', 'state': 'Gujarat', 'country': 'India', 'registration_date': '2023-02-15', 'is_active': False}\n",
            "Reached message:key 91,value:{'customer_id': 91, 'name': 'Customer_91', 'city': 'Mumbai', 'state': 'Telangana', 'country': 'India', 'registration_date': '2023-01-02', 'is_active': False}\n",
            "Reached message:key 94,value:{'customer_id': 94, 'name': 'Customer_94', 'city': 'Chennai', 'state': 'Maharashtra', 'country': 'India', 'registration_date': '2023-04-28', 'is_active': False}\n",
            "Reached message:key 95,value:{'customer_id': 95, 'name': 'Customer_95', 'city': 'Mumbai', 'state': 'Karnataka', 'country': 'India', 'registration_date': '2023-09-29', 'is_active': True}\n",
            "Reached message:key 97,value:{'customer_id': 97, 'name': 'Customer_97', 'city': 'Pune', 'state': 'Maharashtra', 'country': 'India', 'registration_date': '2023-10-31', 'is_active': True}\n",
            "Reached message:key 98,value:{'customer_id': 98, 'name': 'Customer_98', 'city': 'Pune', 'state': 'West Bengal', 'country': 'India', 'registration_date': '2023-06-01', 'is_active': True}\n",
            "Intrrupted by user,shuting down consumer\n"
          ]
        }
      ]
    },
    {
      "cell_type": "code",
      "source": [],
      "metadata": {
        "id": "6w5fwWKj7tE0"
      },
      "execution_count": null,
      "outputs": []
    }
  ]
}