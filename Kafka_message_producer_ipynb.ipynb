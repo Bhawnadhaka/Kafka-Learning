{
  "nbformat": 4,
  "nbformat_minor": 0,
  "metadata": {
    "colab": {
      "provenance": [],
      "authorship_tag": "ABX9TyNnAgFeJWrNMzvhdC1IodP6",
      "include_colab_link": true
    },
    "kernelspec": {
      "name": "python3",
      "display_name": "Python 3"
    },
    "language_info": {
      "name": "python"
    }
  },
  "cells": [
    {
      "cell_type": "markdown",
      "metadata": {
        "id": "view-in-github",
        "colab_type": "text"
      },
      "source": [
        "<a href=\"https://colab.research.google.com/github/Bhawnadhaka/Kafka-Learning/blob/main/Kafka_message_producer_ipynb.ipynb\" target=\"_parent\"><img src=\"https://colab.research.google.com/assets/colab-badge.svg\" alt=\"Open In Colab\"/></a>"
      ]
    },
    {
      "cell_type": "code",
      "execution_count": null,
      "metadata": {
        "id": "6YgxG0rQZ-SL"
      },
      "outputs": [],
      "source": [
        "# send a message to conflluent -kafka Topic via Python"
      ]
    },
    {
      "cell_type": "code",
      "source": [
        "# Required connection configs for Kafka producer, consumer, and admin\n",
        "bootstrap.servers=pkc-921jm.us-east-2.aws.confluent.cloud:9092\n",
        "security.protocol=SASL_SSL\n",
        "sasl.mechanisms=PLAIN\n",
        "sasl.username=MMX35MRQQ3TAWGZ5\n",
        "sasl.password=Vv0LpHZgno1otWzMKo4VQ9EmdLBBBBIcXTeW1xRjn5qFNQMw5ncez9QpcqQuT7AH\n",
        "\n",
        "# Best practice for higher availability in librdkafka clients prior to 1.7\n",
        "session.timeout.ms=45000\n",
        "\n",
        "client.id=ccloud-python-client-dc3b30b7-f51e-411d-a539-5d2dc08cc918\n"
      ],
      "metadata": {
        "id": "_eMrfSo6BBHW"
      },
      "execution_count": null,
      "outputs": []
    },
    {
      "cell_type": "code",
      "source": [
        "!pip install confluent-Kafka"
      ],
      "metadata": {
        "colab": {
          "base_uri": "https://localhost:8080/"
        },
        "id": "Nxq_HpKpBGK5",
        "outputId": "7f22c96b-31f5-467e-807e-5ff69352ea67"
      },
      "execution_count": null,
      "outputs": [
        {
          "output_type": "stream",
          "name": "stdout",
          "text": [
            "Collecting confluent-Kafka\n",
            "  Downloading confluent_kafka-2.10.0-cp311-cp311-manylinux_2_28_x86_64.whl.metadata (22 kB)\n",
            "Downloading confluent_kafka-2.10.0-cp311-cp311-manylinux_2_28_x86_64.whl (3.8 MB)\n",
            "\u001b[2K   \u001b[90m━━━━━━━━━━━━━━━━━━━━━━━━━━━━━━━━━━━━━━━━\u001b[0m \u001b[32m3.8/3.8 MB\u001b[0m \u001b[31m35.6 MB/s\u001b[0m eta \u001b[36m0:00:00\u001b[0m\n",
            "\u001b[?25hInstalling collected packages: confluent-Kafka\n",
            "Successfully installed confluent-Kafka-2.10.0\n"
          ]
        }
      ]
    },
    {
      "cell_type": "code",
      "source": [
        "import pandas as pd\n",
        "import json\n",
        "csv_file='first_100_customers.csv'\n",
        "df=pd.read_csv(csv_file)\n",
        "df.head()"
      ],
      "metadata": {
        "colab": {
          "base_uri": "https://localhost:8080/",
          "height": 206
        },
        "id": "Upu4QBowCI1y",
        "outputId": "92acda2c-10dd-418d-82a2-44296b8fff32"
      },
      "execution_count": null,
      "outputs": [
        {
          "output_type": "execute_result",
          "data": {
            "text/plain": [
              "   customer_id        name       city        state country registration_date  \\\n",
              "0            0  Customer_0       Pune  Maharashtra   India        2023-06-29   \n",
              "1            1  Customer_1  Bangalore   Tamil Nadu   India        2023-12-07   \n",
              "2            2  Customer_2  Hyderabad      Gujarat   India        2023-10-27   \n",
              "3            3  Customer_3  Bangalore    Karnataka   India        2023-10-17   \n",
              "4            4  Customer_4  Ahmedabad    Karnataka   India        2023-03-14   \n",
              "\n",
              "   is_active  \n",
              "0      False  \n",
              "1       True  \n",
              "2       True  \n",
              "3      False  \n",
              "4      False  "
            ],
            "text/html": [
              "\n",
              "  <div id=\"df-4e40f7d7-1677-4346-9c5b-1f00914fa199\" class=\"colab-df-container\">\n",
              "    <div>\n",
              "<style scoped>\n",
              "    .dataframe tbody tr th:only-of-type {\n",
              "        vertical-align: middle;\n",
              "    }\n",
              "\n",
              "    .dataframe tbody tr th {\n",
              "        vertical-align: top;\n",
              "    }\n",
              "\n",
              "    .dataframe thead th {\n",
              "        text-align: right;\n",
              "    }\n",
              "</style>\n",
              "<table border=\"1\" class=\"dataframe\">\n",
              "  <thead>\n",
              "    <tr style=\"text-align: right;\">\n",
              "      <th></th>\n",
              "      <th>customer_id</th>\n",
              "      <th>name</th>\n",
              "      <th>city</th>\n",
              "      <th>state</th>\n",
              "      <th>country</th>\n",
              "      <th>registration_date</th>\n",
              "      <th>is_active</th>\n",
              "    </tr>\n",
              "  </thead>\n",
              "  <tbody>\n",
              "    <tr>\n",
              "      <th>0</th>\n",
              "      <td>0</td>\n",
              "      <td>Customer_0</td>\n",
              "      <td>Pune</td>\n",
              "      <td>Maharashtra</td>\n",
              "      <td>India</td>\n",
              "      <td>2023-06-29</td>\n",
              "      <td>False</td>\n",
              "    </tr>\n",
              "    <tr>\n",
              "      <th>1</th>\n",
              "      <td>1</td>\n",
              "      <td>Customer_1</td>\n",
              "      <td>Bangalore</td>\n",
              "      <td>Tamil Nadu</td>\n",
              "      <td>India</td>\n",
              "      <td>2023-12-07</td>\n",
              "      <td>True</td>\n",
              "    </tr>\n",
              "    <tr>\n",
              "      <th>2</th>\n",
              "      <td>2</td>\n",
              "      <td>Customer_2</td>\n",
              "      <td>Hyderabad</td>\n",
              "      <td>Gujarat</td>\n",
              "      <td>India</td>\n",
              "      <td>2023-10-27</td>\n",
              "      <td>True</td>\n",
              "    </tr>\n",
              "    <tr>\n",
              "      <th>3</th>\n",
              "      <td>3</td>\n",
              "      <td>Customer_3</td>\n",
              "      <td>Bangalore</td>\n",
              "      <td>Karnataka</td>\n",
              "      <td>India</td>\n",
              "      <td>2023-10-17</td>\n",
              "      <td>False</td>\n",
              "    </tr>\n",
              "    <tr>\n",
              "      <th>4</th>\n",
              "      <td>4</td>\n",
              "      <td>Customer_4</td>\n",
              "      <td>Ahmedabad</td>\n",
              "      <td>Karnataka</td>\n",
              "      <td>India</td>\n",
              "      <td>2023-03-14</td>\n",
              "      <td>False</td>\n",
              "    </tr>\n",
              "  </tbody>\n",
              "</table>\n",
              "</div>\n",
              "    <div class=\"colab-df-buttons\">\n",
              "\n",
              "  <div class=\"colab-df-container\">\n",
              "    <button class=\"colab-df-convert\" onclick=\"convertToInteractive('df-4e40f7d7-1677-4346-9c5b-1f00914fa199')\"\n",
              "            title=\"Convert this dataframe to an interactive table.\"\n",
              "            style=\"display:none;\">\n",
              "\n",
              "  <svg xmlns=\"http://www.w3.org/2000/svg\" height=\"24px\" viewBox=\"0 -960 960 960\">\n",
              "    <path d=\"M120-120v-720h720v720H120Zm60-500h600v-160H180v160Zm220 220h160v-160H400v160Zm0 220h160v-160H400v160ZM180-400h160v-160H180v160Zm440 0h160v-160H620v160ZM180-180h160v-160H180v160Zm440 0h160v-160H620v160Z\"/>\n",
              "  </svg>\n",
              "    </button>\n",
              "\n",
              "  <style>\n",
              "    .colab-df-container {\n",
              "      display:flex;\n",
              "      gap: 12px;\n",
              "    }\n",
              "\n",
              "    .colab-df-convert {\n",
              "      background-color: #E8F0FE;\n",
              "      border: none;\n",
              "      border-radius: 50%;\n",
              "      cursor: pointer;\n",
              "      display: none;\n",
              "      fill: #1967D2;\n",
              "      height: 32px;\n",
              "      padding: 0 0 0 0;\n",
              "      width: 32px;\n",
              "    }\n",
              "\n",
              "    .colab-df-convert:hover {\n",
              "      background-color: #E2EBFA;\n",
              "      box-shadow: 0px 1px 2px rgba(60, 64, 67, 0.3), 0px 1px 3px 1px rgba(60, 64, 67, 0.15);\n",
              "      fill: #174EA6;\n",
              "    }\n",
              "\n",
              "    .colab-df-buttons div {\n",
              "      margin-bottom: 4px;\n",
              "    }\n",
              "\n",
              "    [theme=dark] .colab-df-convert {\n",
              "      background-color: #3B4455;\n",
              "      fill: #D2E3FC;\n",
              "    }\n",
              "\n",
              "    [theme=dark] .colab-df-convert:hover {\n",
              "      background-color: #434B5C;\n",
              "      box-shadow: 0px 1px 3px 1px rgba(0, 0, 0, 0.15);\n",
              "      filter: drop-shadow(0px 1px 2px rgba(0, 0, 0, 0.3));\n",
              "      fill: #FFFFFF;\n",
              "    }\n",
              "  </style>\n",
              "\n",
              "    <script>\n",
              "      const buttonEl =\n",
              "        document.querySelector('#df-4e40f7d7-1677-4346-9c5b-1f00914fa199 button.colab-df-convert');\n",
              "      buttonEl.style.display =\n",
              "        google.colab.kernel.accessAllowed ? 'block' : 'none';\n",
              "\n",
              "      async function convertToInteractive(key) {\n",
              "        const element = document.querySelector('#df-4e40f7d7-1677-4346-9c5b-1f00914fa199');\n",
              "        const dataTable =\n",
              "          await google.colab.kernel.invokeFunction('convertToInteractive',\n",
              "                                                    [key], {});\n",
              "        if (!dataTable) return;\n",
              "\n",
              "        const docLinkHtml = 'Like what you see? Visit the ' +\n",
              "          '<a target=\"_blank\" href=https://colab.research.google.com/notebooks/data_table.ipynb>data table notebook</a>'\n",
              "          + ' to learn more about interactive tables.';\n",
              "        element.innerHTML = '';\n",
              "        dataTable['output_type'] = 'display_data';\n",
              "        await google.colab.output.renderOutput(dataTable, element);\n",
              "        const docLink = document.createElement('div');\n",
              "        docLink.innerHTML = docLinkHtml;\n",
              "        element.appendChild(docLink);\n",
              "      }\n",
              "    </script>\n",
              "  </div>\n",
              "\n",
              "\n",
              "    <div id=\"df-cb7afaab-3db9-4454-8cb8-47455dfef506\">\n",
              "      <button class=\"colab-df-quickchart\" onclick=\"quickchart('df-cb7afaab-3db9-4454-8cb8-47455dfef506')\"\n",
              "                title=\"Suggest charts\"\n",
              "                style=\"display:none;\">\n",
              "\n",
              "<svg xmlns=\"http://www.w3.org/2000/svg\" height=\"24px\"viewBox=\"0 0 24 24\"\n",
              "     width=\"24px\">\n",
              "    <g>\n",
              "        <path d=\"M19 3H5c-1.1 0-2 .9-2 2v14c0 1.1.9 2 2 2h14c1.1 0 2-.9 2-2V5c0-1.1-.9-2-2-2zM9 17H7v-7h2v7zm4 0h-2V7h2v10zm4 0h-2v-4h2v4z\"/>\n",
              "    </g>\n",
              "</svg>\n",
              "      </button>\n",
              "\n",
              "<style>\n",
              "  .colab-df-quickchart {\n",
              "      --bg-color: #E8F0FE;\n",
              "      --fill-color: #1967D2;\n",
              "      --hover-bg-color: #E2EBFA;\n",
              "      --hover-fill-color: #174EA6;\n",
              "      --disabled-fill-color: #AAA;\n",
              "      --disabled-bg-color: #DDD;\n",
              "  }\n",
              "\n",
              "  [theme=dark] .colab-df-quickchart {\n",
              "      --bg-color: #3B4455;\n",
              "      --fill-color: #D2E3FC;\n",
              "      --hover-bg-color: #434B5C;\n",
              "      --hover-fill-color: #FFFFFF;\n",
              "      --disabled-bg-color: #3B4455;\n",
              "      --disabled-fill-color: #666;\n",
              "  }\n",
              "\n",
              "  .colab-df-quickchart {\n",
              "    background-color: var(--bg-color);\n",
              "    border: none;\n",
              "    border-radius: 50%;\n",
              "    cursor: pointer;\n",
              "    display: none;\n",
              "    fill: var(--fill-color);\n",
              "    height: 32px;\n",
              "    padding: 0;\n",
              "    width: 32px;\n",
              "  }\n",
              "\n",
              "  .colab-df-quickchart:hover {\n",
              "    background-color: var(--hover-bg-color);\n",
              "    box-shadow: 0 1px 2px rgba(60, 64, 67, 0.3), 0 1px 3px 1px rgba(60, 64, 67, 0.15);\n",
              "    fill: var(--button-hover-fill-color);\n",
              "  }\n",
              "\n",
              "  .colab-df-quickchart-complete:disabled,\n",
              "  .colab-df-quickchart-complete:disabled:hover {\n",
              "    background-color: var(--disabled-bg-color);\n",
              "    fill: var(--disabled-fill-color);\n",
              "    box-shadow: none;\n",
              "  }\n",
              "\n",
              "  .colab-df-spinner {\n",
              "    border: 2px solid var(--fill-color);\n",
              "    border-color: transparent;\n",
              "    border-bottom-color: var(--fill-color);\n",
              "    animation:\n",
              "      spin 1s steps(1) infinite;\n",
              "  }\n",
              "\n",
              "  @keyframes spin {\n",
              "    0% {\n",
              "      border-color: transparent;\n",
              "      border-bottom-color: var(--fill-color);\n",
              "      border-left-color: var(--fill-color);\n",
              "    }\n",
              "    20% {\n",
              "      border-color: transparent;\n",
              "      border-left-color: var(--fill-color);\n",
              "      border-top-color: var(--fill-color);\n",
              "    }\n",
              "    30% {\n",
              "      border-color: transparent;\n",
              "      border-left-color: var(--fill-color);\n",
              "      border-top-color: var(--fill-color);\n",
              "      border-right-color: var(--fill-color);\n",
              "    }\n",
              "    40% {\n",
              "      border-color: transparent;\n",
              "      border-right-color: var(--fill-color);\n",
              "      border-top-color: var(--fill-color);\n",
              "    }\n",
              "    60% {\n",
              "      border-color: transparent;\n",
              "      border-right-color: var(--fill-color);\n",
              "    }\n",
              "    80% {\n",
              "      border-color: transparent;\n",
              "      border-right-color: var(--fill-color);\n",
              "      border-bottom-color: var(--fill-color);\n",
              "    }\n",
              "    90% {\n",
              "      border-color: transparent;\n",
              "      border-bottom-color: var(--fill-color);\n",
              "    }\n",
              "  }\n",
              "</style>\n",
              "\n",
              "      <script>\n",
              "        async function quickchart(key) {\n",
              "          const quickchartButtonEl =\n",
              "            document.querySelector('#' + key + ' button');\n",
              "          quickchartButtonEl.disabled = true;  // To prevent multiple clicks.\n",
              "          quickchartButtonEl.classList.add('colab-df-spinner');\n",
              "          try {\n",
              "            const charts = await google.colab.kernel.invokeFunction(\n",
              "                'suggestCharts', [key], {});\n",
              "          } catch (error) {\n",
              "            console.error('Error during call to suggestCharts:', error);\n",
              "          }\n",
              "          quickchartButtonEl.classList.remove('colab-df-spinner');\n",
              "          quickchartButtonEl.classList.add('colab-df-quickchart-complete');\n",
              "        }\n",
              "        (() => {\n",
              "          let quickchartButtonEl =\n",
              "            document.querySelector('#df-cb7afaab-3db9-4454-8cb8-47455dfef506 button');\n",
              "          quickchartButtonEl.style.display =\n",
              "            google.colab.kernel.accessAllowed ? 'block' : 'none';\n",
              "        })();\n",
              "      </script>\n",
              "    </div>\n",
              "\n",
              "    </div>\n",
              "  </div>\n"
            ],
            "application/vnd.google.colaboratory.intrinsic+json": {
              "type": "dataframe",
              "variable_name": "df",
              "summary": "{\n  \"name\": \"df\",\n  \"rows\": 99,\n  \"fields\": [\n    {\n      \"column\": \"customer_id\",\n      \"properties\": {\n        \"dtype\": \"number\",\n        \"std\": 28,\n        \"min\": 0,\n        \"max\": 98,\n        \"num_unique_values\": 99,\n        \"samples\": [\n          62,\n          40,\n          95\n        ],\n        \"semantic_type\": \"\",\n        \"description\": \"\"\n      }\n    },\n    {\n      \"column\": \"name\",\n      \"properties\": {\n        \"dtype\": \"string\",\n        \"num_unique_values\": 99,\n        \"samples\": [\n          \"Customer_62\",\n          \"Customer_40\",\n          \"Customer_95\"\n        ],\n        \"semantic_type\": \"\",\n        \"description\": \"\"\n      }\n    },\n    {\n      \"column\": \"city\",\n      \"properties\": {\n        \"dtype\": \"category\",\n        \"num_unique_values\": 8,\n        \"samples\": [\n          \"Bangalore\",\n          \"Delhi\",\n          \"Pune\"\n        ],\n        \"semantic_type\": \"\",\n        \"description\": \"\"\n      }\n    },\n    {\n      \"column\": \"state\",\n      \"properties\": {\n        \"dtype\": \"category\",\n        \"num_unique_values\": 7,\n        \"samples\": [\n          \"Maharashtra\",\n          \"Tamil Nadu\",\n          \"West Bengal\"\n        ],\n        \"semantic_type\": \"\",\n        \"description\": \"\"\n      }\n    },\n    {\n      \"column\": \"country\",\n      \"properties\": {\n        \"dtype\": \"category\",\n        \"num_unique_values\": 1,\n        \"samples\": [\n          \"India\"\n        ],\n        \"semantic_type\": \"\",\n        \"description\": \"\"\n      }\n    },\n    {\n      \"column\": \"registration_date\",\n      \"properties\": {\n        \"dtype\": \"object\",\n        \"num_unique_values\": 90,\n        \"samples\": [\n          \"2023-01-15\"\n        ],\n        \"semantic_type\": \"\",\n        \"description\": \"\"\n      }\n    },\n    {\n      \"column\": \"is_active\",\n      \"properties\": {\n        \"dtype\": \"boolean\",\n        \"num_unique_values\": 2,\n        \"samples\": [\n          true\n        ],\n        \"semantic_type\": \"\",\n        \"description\": \"\"\n      }\n    }\n  ]\n}"
            }
          },
          "metadata": {},
          "execution_count": 3
        }
      ]
    },
    {
      "cell_type": "code",
      "source": [
        "json_records=df.to_dict(orient='records')\n",
        "json_file='customers.json'\n",
        "with open(json_file,'w') as file:\n",
        "    json.dump(json_records,file,indent=4)\n",
        "print(\"file converted to json\")\n",
        "\n"
      ],
      "metadata": {
        "colab": {
          "base_uri": "https://localhost:8080/"
        },
        "id": "wsmDfwxqCcDe",
        "outputId": "b1d82a95-6bbc-4fed-8ea6-04ec31f8d591"
      },
      "execution_count": null,
      "outputs": [
        {
          "output_type": "stream",
          "name": "stdout",
          "text": [
            "file converted to json\n"
          ]
        }
      ]
    },
    {
      "cell_type": "code",
      "source": [
        "from confluent_kafka import Producer\n",
        "import json\n",
        "import time\n",
        "\n",
        "conf={\n",
        "    \"bootstrap.servers\":\"pkc-921jm.us-east-2.aws.confluent.cloud:9092\",\n",
        "    \"security.protocol\":\"SASL_SSL\",\n",
        "    \"sasl.mechanisms\":\"PLAIN\",\n",
        "    \"sasl.username\":\"MMX35MRQQ3TAWGZ5\",\n",
        "    \"sasl.password\":\"Vv0LpHZgno1otWzMKo4VQ9EmdLBBBBIcXTeW1xRjn5qFNQMw5ncez9QpcqQuT7AH\",\n",
        "    'session.timeout.ms': 45000,  # Add session timeout\n",
        "    'client.id': 'ccloud-python-client-dc3b30b7-f51e-411d-a539-5d2dc08cc918'\n",
        "}\n",
        "\n",
        "producer=Producer(conf)\n",
        "\n"
      ],
      "metadata": {
        "id": "ud8x393xBLsF"
      },
      "execution_count": null,
      "outputs": []
    },
    {
      "cell_type": "code",
      "source": [
        "topic='ecommerce'\n",
        "\n",
        "with open('customers.json','r') as file:\n",
        "  customers_data =json.load(file)\n",
        "\n",
        "value=customers_data[0]\n",
        "key= value['customer_id']\n",
        "print(key,value)\n",
        "\n"
      ],
      "metadata": {
        "colab": {
          "base_uri": "https://localhost:8080/"
        },
        "id": "SFoYayzXGLIr",
        "outputId": "c94099d7-9fc0-48b5-dc63-5cbc8e558bb4"
      },
      "execution_count": null,
      "outputs": [
        {
          "output_type": "stream",
          "name": "stdout",
          "text": [
            "0 {'customer_id': 0, 'name': 'Customer_0', 'city': 'Pune', 'state': 'Maharashtra', 'country': 'India', 'registration_date': '2023-06-29', 'is_active': False}\n"
          ]
        }
      ]
    },
    {
      "cell_type": "code",
      "source": [
        "type(str(value).encode('utf-8'))"
      ],
      "metadata": {
        "colab": {
          "base_uri": "https://localhost:8080/"
        },
        "id": "hFSwd1b1HwU4",
        "outputId": "385c9046-29f6-444c-8efa-965e8503590b"
      },
      "execution_count": null,
      "outputs": [
        {
          "output_type": "execute_result",
          "data": {
            "text/plain": [
              "bytes"
            ]
          },
          "metadata": {},
          "execution_count": 7
        }
      ]
    },
    {
      "cell_type": "code",
      "source": [
        "producer.produce(topic,key=str(key).encode('utf-8'),value=str(value).encode('utf-8'))"
      ],
      "metadata": {
        "id": "poRvgAbAGxnO"
      },
      "execution_count": null,
      "outputs": []
    },
    {
      "cell_type": "code",
      "source": [
        "# send multiple messages to kafka cluster"
      ],
      "metadata": {
        "id": "mt5PpDSnH_Yc"
      },
      "execution_count": null,
      "outputs": []
    },
    {
      "cell_type": "code",
      "source": [
        "topic='ecommerce'\n",
        "def delivery_status(err,msg):\n",
        "    if(err):\n",
        "       print(f\"message delivery failed:{err}\")\n",
        "    else:\n",
        "       print(f\"message deliverd to {msg.topic()} [{msg.partition()}] at offset {msg.offset()}\")\n",
        "\n",
        "for record in customers_data:\n",
        "\n",
        "  try:\n",
        "\n",
        "    message_value=json.dumps(record)\n",
        "    message_key=str(record['customer_id']).encode('utf-8')\n",
        "\n",
        "    producer.produce(topic,key=message_key,value=message_value,callback=delivery_status)\n",
        "    producer.poll(1)\n",
        "  except Exception as e:\n",
        "    print(f\"Error sending message :{e}\")\n",
        "producer.flush()\n",
        "print(\"Message send to kafka successfully\")"
      ],
      "metadata": {
        "colab": {
          "base_uri": "https://localhost:8080/"
        },
        "id": "hpRZsDQ6Mfzs",
        "outputId": "ed14257a-7cf6-4550-e07e-a1f1a9127aab"
      },
      "execution_count": null,
      "outputs": [
        {
          "output_type": "stream",
          "name": "stdout",
          "text": [
            "message deliverd to ecommerce [2] at offset 24\n",
            "message deliverd to ecommerce [2] at offset 25\n",
            "message deliverd to ecommerce [1] at offset 37\n",
            "message deliverd to ecommerce [1] at offset 38\n",
            "message deliverd to ecommerce [1] at offset 39\n",
            "message deliverd to ecommerce [1] at offset 40\n",
            "message deliverd to ecommerce [1] at offset 41\n",
            "message deliverd to ecommerce [0] at offset 41\n",
            "message deliverd to ecommerce [2] at offset 26\n",
            "message deliverd to ecommerce [0] at offset 42\n",
            "message deliverd to ecommerce [0] at offset 43\n",
            "message deliverd to ecommerce [0] at offset 44\n",
            "message deliverd to ecommerce [0] at offset 45\n",
            "message deliverd to ecommerce [2] at offset 27\n",
            "message deliverd to ecommerce [0] at offset 46\n",
            "message deliverd to ecommerce [1] at offset 42\n",
            "message deliverd to ecommerce [0] at offset 47\n",
            "message deliverd to ecommerce [2] at offset 28\n",
            "message deliverd to ecommerce [0] at offset 48\n",
            "message deliverd to ecommerce [1] at offset 43\n",
            "message deliverd to ecommerce [0] at offset 49\n",
            "message deliverd to ecommerce [1] at offset 44\n",
            "message deliverd to ecommerce [2] at offset 29\n",
            "message deliverd to ecommerce [1] at offset 45\n",
            "message deliverd to ecommerce [2] at offset 30\n",
            "message deliverd to ecommerce [0] at offset 50\n",
            "message deliverd to ecommerce [1] at offset 46\n",
            "message deliverd to ecommerce [0] at offset 51\n",
            "message deliverd to ecommerce [0] at offset 52\n",
            "message deliverd to ecommerce [2] at offset 31\n",
            "message deliverd to ecommerce [1] at offset 47\n",
            "message deliverd to ecommerce [1] at offset 48\n",
            "message deliverd to ecommerce [1] at offset 49\n",
            "message deliverd to ecommerce [2] at offset 32\n",
            "message deliverd to ecommerce [2] at offset 33\n",
            "message deliverd to ecommerce [1] at offset 50\n",
            "message deliverd to ecommerce [1] at offset 51\n",
            "message deliverd to ecommerce [1] at offset 52\n",
            "message deliverd to ecommerce [0] at offset 53\n",
            "message deliverd to ecommerce [1] at offset 53\n",
            "message deliverd to ecommerce [2] at offset 34\n",
            "message deliverd to ecommerce [2] at offset 35\n",
            "message deliverd to ecommerce [2] at offset 36\n",
            "message deliverd to ecommerce [1] at offset 54\n",
            "message deliverd to ecommerce [2] at offset 37\n",
            "message deliverd to ecommerce [1] at offset 55\n",
            "message deliverd to ecommerce [0] at offset 54\n",
            "message deliverd to ecommerce [0] at offset 55\n",
            "message deliverd to ecommerce [0] at offset 56\n",
            "message deliverd to ecommerce [0] at offset 57\n",
            "message deliverd to ecommerce [0] at offset 58\n",
            "message deliverd to ecommerce [0] at offset 59\n",
            "message deliverd to ecommerce [1] at offset 56\n",
            "message deliverd to ecommerce [0] at offset 60\n",
            "message deliverd to ecommerce [1] at offset 57\n",
            "message deliverd to ecommerce [2] at offset 38\n",
            "message deliverd to ecommerce [1] at offset 58\n",
            "message deliverd to ecommerce [0] at offset 61\n",
            "message deliverd to ecommerce [0] at offset 62\n",
            "message deliverd to ecommerce [2] at offset 39\n",
            "message deliverd to ecommerce [0] at offset 63\n",
            "message deliverd to ecommerce [1] at offset 59\n",
            "message deliverd to ecommerce [1] at offset 60\n",
            "message deliverd to ecommerce [0] at offset 64\n",
            "message deliverd to ecommerce [0] at offset 65\n",
            "message deliverd to ecommerce [0] at offset 66\n",
            "message deliverd to ecommerce [1] at offset 61\n",
            "message deliverd to ecommerce [1] at offset 62\n",
            "message deliverd to ecommerce [1] at offset 63\n",
            "message deliverd to ecommerce [1] at offset 64\n",
            "message deliverd to ecommerce [1] at offset 65\n",
            "message deliverd to ecommerce [1] at offset 66\n",
            "message deliverd to ecommerce [0] at offset 67\n",
            "message deliverd to ecommerce [1] at offset 67\n",
            "message deliverd to ecommerce [2] at offset 40\n",
            "message deliverd to ecommerce [0] at offset 68\n",
            "message deliverd to ecommerce [2] at offset 41\n",
            "message deliverd to ecommerce [0] at offset 69\n",
            "message deliverd to ecommerce [0] at offset 70\n",
            "message deliverd to ecommerce [2] at offset 42\n",
            "message deliverd to ecommerce [0] at offset 71\n",
            "message deliverd to ecommerce [2] at offset 43\n",
            "message deliverd to ecommerce [0] at offset 72\n",
            "message deliverd to ecommerce [2] at offset 44\n",
            "message deliverd to ecommerce [1] at offset 68\n",
            "message deliverd to ecommerce [0] at offset 73\n",
            "message deliverd to ecommerce [0] at offset 74\n",
            "message deliverd to ecommerce [1] at offset 69\n",
            "message deliverd to ecommerce [1] at offset 70\n",
            "message deliverd to ecommerce [0] at offset 75\n",
            "message deliverd to ecommerce [0] at offset 76\n",
            "message deliverd to ecommerce [0] at offset 77\n",
            "message deliverd to ecommerce [1] at offset 71\n",
            "message deliverd to ecommerce [1] at offset 72\n",
            "message deliverd to ecommerce [0] at offset 78\n",
            "message deliverd to ecommerce [0] at offset 79\n",
            "message deliverd to ecommerce [1] at offset 73\n",
            "message deliverd to ecommerce [0] at offset 80\n",
            "message deliverd to ecommerce [0] at offset 81\n",
            "Message send to kafka successfully\n"
          ]
        }
      ]
    },
    {
      "cell_type": "code",
      "source": [],
      "metadata": {
        "id": "0zOHrmNDPEC-"
      },
      "execution_count": null,
      "outputs": []
    }
  ]
}